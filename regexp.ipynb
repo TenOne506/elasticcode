{
 "cells": [
  {
   "cell_type": "code",
   "execution_count": 1,
   "id": "a9df131a",
   "metadata": {},
   "outputs": [],
   "source": [
    "from elasticsearch_dsl.query import Regexp,Query\n",
    "from elasticsearch_dsl import Q,Search,connections\n",
    "connection = connections.create_connection(hosts=\"http://localhost:9200\")\n",
    "\n",
    "def search_query(search,query,columns):\n",
    "    s = search.query(query)\n",
    "    respose = s.execute()\n",
    "\n",
    "    for hit in respose.hits:\n",
    "        for col in columns:\n",
    "            print(f\"{col}:{hit.to_dict().get(col)}\")"
   ]
  },
  {
   "cell_type": "code",
   "execution_count": 2,
   "id": "3a5c2ebf",
   "metadata": {},
   "outputs": [],
   "source": [
    "search =Search(index='books')"
   ]
  },
  {
   "cell_type": "code",
   "execution_count": 3,
   "id": "2abd3be1",
   "metadata": {},
   "outputs": [
    {
     "name": "stdout",
     "output_type": "stream",
     "text": [
      "title:西游记\n",
      "title:水浒传\n"
     ]
    }
   ],
   "source": [
    "query = Regexp(title='记|水')\n",
    "            \n",
    "search_query(search,query,columns=['title'])"
   ]
  },
  {
   "cell_type": "code",
   "execution_count": 4,
   "id": "5e41e1ed",
   "metadata": {},
   "outputs": [],
   "source": [
    "#会转为小写，大写会导致匹配不到\n",
    "query = Regexp(title='Pyth.*')#改为pyth.*可以正常查询\n",
    "search_query(search,query,columns=['title'])"
   ]
  }
 ],
 "metadata": {
  "kernelspec": {
   "display_name": "elasticsearch_env",
   "language": "python",
   "name": "python3"
  },
  "language_info": {
   "codemirror_mode": {
    "name": "ipython",
    "version": 3
   },
   "file_extension": ".py",
   "mimetype": "text/x-python",
   "name": "python",
   "nbconvert_exporter": "python",
   "pygments_lexer": "ipython3",
   "version": "3.13.2"
  }
 },
 "nbformat": 4,
 "nbformat_minor": 5
}
