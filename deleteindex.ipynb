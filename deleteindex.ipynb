{
 "cells": [
  {
   "cell_type": "code",
   "execution_count": 1,
   "id": "eff5815d",
   "metadata": {},
   "outputs": [
    {
     "name": "stdout",
     "output_type": "stream",
     "text": [
      "✅ 索引删除成功\n"
     ]
    }
   ],
   "source": [
    "from elasticsearch_dsl import connections, Index\n",
    "\n",
    "# 1. 创建连接（修正图片中的拼写错误）\n",
    "connections.create_connection(hosts=\"http://localhost:9200\")\n",
    "\n",
    "# 2. 删除books索引\n",
    "index = Index('books')\n",
    "if index.exists():\n",
    "    index.delete()  # 执行删除\n",
    "    print(\"✅ 索引删除成功\")\n",
    "else:\n",
    "    print(\"⚠️ 索引不存在\")"
   ]
  }
 ],
 "metadata": {
  "kernelspec": {
   "display_name": "elasticsearch_env",
   "language": "python",
   "name": "python3"
  },
  "language_info": {
   "codemirror_mode": {
    "name": "ipython",
    "version": 3
   },
   "file_extension": ".py",
   "mimetype": "text/x-python",
   "name": "python",
   "nbconvert_exporter": "python",
   "pygments_lexer": "ipython3",
   "version": "3.13.2"
  }
 },
 "nbformat": 4,
 "nbformat_minor": 5
}
