{
 "cells": [
  {
   "cell_type": "markdown",
   "id": "257af37e",
   "metadata": {},
   "source": [
    "### Elasticsearch 查询操作\n",
    "本笔记本演示如何使用 Python 进行 Elasticsearch 的各种查询操作\n"
   ]
  },
  {
   "cell_type": "code",
   "execution_count": 63,
   "id": "41e192f1",
   "metadata": {},
   "outputs": [],
   "source": [
    "from elasticsearch_dsl import Search,Q,connections,Index\n",
    "\n",
    "connection = connections.create_connection(hosts=\"http://localhost:9200\");"
   ]
  },
  {
   "cell_type": "markdown",
   "id": "9843952a",
   "metadata": {},
   "source": [
    "### 基础查询\n",
    "演示基本的 Match 查询，包括查询构建、执行和结果解析。\n"
   ]
  },
  {
   "cell_type": "code",
   "execution_count": 64,
   "id": "e0e2bdc1",
   "metadata": {},
   "outputs": [],
   "source": [
    "#创建一个查询对象\n",
    "search = Search(index=\"books\")"
   ]
  },
  {
   "cell_type": "code",
   "execution_count": 65,
   "id": "6c60be19",
   "metadata": {},
   "outputs": [],
   "source": [
    "#添加一个match查询\n",
    "query = Q('match',title='西游')\n",
    "s = search.query(query)"
   ]
  },
  {
   "cell_type": "code",
   "execution_count": 66,
   "id": "eb09138b",
   "metadata": {},
   "outputs": [],
   "source": [
    "response = s.execute()"
   ]
  },
  {
   "cell_type": "code",
   "execution_count": 67,
   "id": "7ab7ce82",
   "metadata": {},
   "outputs": [
    {
     "data": {
      "text/plain": [
       "<Response: [<Hit(books/6P52lZYBXvZuT4g9B-TA): {'title': '西游记', 'description': '由明朝作家吴承恩创作，讲述了孙悟空、猪八戒、沙僧等人与...}>]>"
      ]
     },
     "execution_count": 67,
     "metadata": {},
     "output_type": "execute_result"
    }
   ],
   "source": [
    "response"
   ]
  },
  {
   "cell_type": "markdown",
   "id": "f1351d9e",
   "metadata": {},
   "source": [
    "### 查询结果处理\n",
    "展示如何获取查询结果的元数据（ID、评分）和文档内容。\n"
   ]
  },
  {
   "cell_type": "code",
   "execution_count": 68,
   "id": "3ec4b172",
   "metadata": {},
   "outputs": [
    {
     "name": "stdout",
     "output_type": "stream",
     "text": [
      "[{'_index': 'books', '_id': '6P52lZYBXvZuT4g9B-TA', '_score': 4.3191433, '_source': {'title': '西游记', 'description': '由明朝作家吴承恩创作，讲述了孙悟空、猪八戒、沙僧等人与唐僧师徒四人西天取经的故事。小说通过描绘师徒四人在取经路上所遭遇的种种艰难险阻，反映了人性的善恶、道德观念和宽容精神，成为中国文学的经典之作。', 'category': '小说', 'price': 10, 'in_stock': False}}]\n"
     ]
    }
   ],
   "source": [
    "# 打印原始查询DSL\n",
    "print(response.to_dict()[\"hits\"][\"hits\"])  # 查看所有命中文档"
   ]
  },
  {
   "cell_type": "code",
   "execution_count": 69,
   "id": "4ae8a6a6",
   "metadata": {},
   "outputs": [
    {
     "name": "stdout",
     "output_type": "stream",
     "text": [
      "ID: 6P52lZYBXvZuT4g9B-TA, Score: 4.3191433\n",
      "{'title': '西游记', 'description': '由明朝作家吴承恩创作，讲述了孙悟空、猪八戒、沙僧等人与唐僧师徒四人西天取经的故事。小说通过描绘师徒四人在取经路上所遭遇的种种艰难险阻，反映了人性的善恶、道德观念和宽容精神，成为中国文学的经典之作。', 'category': '小说', 'price': 10, 'in_stock': False}\n"
     ]
    }
   ],
   "source": [
    "# for hit in response.hits:#//print(1)\n",
    "#     print(f'title:{hit.title}')\n",
    "#     print(f'description:{hit.description}')\n",
    "for hit in response.hits:\n",
    "    print(f\"ID: {hit.meta.id}, Score: {hit.meta.score}\")  # 检查是否同一文档\n",
    "    print(hit.to_dict())  # 打印完整文档"
   ]
  },
  {
   "cell_type": "markdown",
   "id": "767fdba4",
   "metadata": {},
   "source": [
    "### 重复数据处理\n",
    "演示如何检测和处理索引中的重复文档。\n"
   ]
  },
  {
   "cell_type": "code",
   "execution_count": 33,
   "id": "a444accf",
   "metadata": {},
   "outputs": [
    {
     "name": "stdout",
     "output_type": "stream",
     "text": [
      "已清理重复数据，保留文档ID: cQZhlJYBAwmkFhAi3VA3\n"
     ]
    }
   ],
   "source": [
    "from elasticsearch import Elasticsearch\n",
    "from elasticsearch_dsl import Search\n",
    "\n",
    "# 连接ES\n",
    "es = Elasticsearch(\"http://localhost:9200\")\n",
    "\n",
    "# 找出所有《西游记》文档\n",
    "duplicates = es.search(\n",
    "    index=\"books\",\n",
    "    body={\n",
    "        \"query\": {\"match\": {\"title\": \"西游记\"}},\n",
    "        \"_source\": False,  # 不返回文档内容\n",
    "        \"size\": 100\n",
    "    }\n",
    ")\n",
    "\n",
    "# 保留第一条，删除其余（根据文档时间戳选择最新的一条）\n",
    "keep_id = duplicates['hits']['hits'][0]['_id']  # 保留第一个文档ID\n",
    "for doc in duplicates['hits']['hits'][1:]:\n",
    "    es.delete(index=\"books\", id=doc['_id'])\n",
    "\n",
    "print(f\"已清理重复数据，保留文档ID: {keep_id}\")"
   ]
  },
  {
   "cell_type": "code",
   "execution_count": 70,
   "id": "d2efa26e",
   "metadata": {},
   "outputs": [
    {
     "name": "stdout",
     "output_type": "stream",
     "text": [
      "找到 1 条重复记录\n",
      "ID: 6P52lZYBXvZuT4g9B-TA, 内容哈希: 8814111650751092178\n"
     ]
    }
   ],
   "source": [
    "from elasticsearch import Elasticsearch\n",
    "from elasticsearch_dsl import Search\n",
    "\n",
    "es = Elasticsearch(hosts=\"http://localhost:9200\") \n",
    "s = Search(using=es, index=\"books\").query(\"match\", title=\"西游记\")\n",
    "response = s.execute()\n",
    "\n",
    "print(f\"找到 {response.hits.total.value} 条重复记录\")\n",
    "for hit in response:\n",
    "    print(f\"ID: {hit.meta.id}, 内容哈希: {hash(str(hit.to_dict()))}\")"
   ]
  },
  {
   "cell_type": "code",
   "execution_count": 98,
   "id": "4648b81f",
   "metadata": {},
   "outputs": [
    {
     "name": "stdout",
     "output_type": "stream",
     "text": [
      "=== 命中文档 ===\n",
      "标题: 西游记\n",
      "描述: 由明朝作家吴承恩创作，讲述了孙悟空、猪八戒、沙僧等人与唐僧师徒四人西天取经的故事。小说通过描绘师徒四人在取经路上所遭遇的种种艰难险阻，反映了人性的善恶、道德观念和宽容精神，成为中国文学的经典之作。\n",
      "\n",
      "=== 原始查询DSL ===\n",
      "{'took': 1, 'timed_out': False, '_shards': {'total': 1, 'successful': 1, 'skipped': 0, 'failed': 0}, 'hits': {'total': {'value': 1, 'relation': 'eq'}, 'max_score': 4.3191433, 'hits': [{'_index': 'books', '_id': '6P52lZYBXvZuT4g9B-TA', '_score': 4.3191433, '_source': {'title': '西游记', 'description': '由明朝作家吴承恩创作，讲述了孙悟空、猪八戒、沙僧等人与唐僧师徒四人西天取经的故事。小说通过描绘师徒四人在取经路上所遭遇的种种艰难险阻，反映了人性的善恶、道德观念和宽容精神，成为中国文学的经典之作。', 'category': '小说', 'price': 10, 'in_stock': False}}]}}\n"
     ]
    }
   ],
   "source": [
    "from elasticsearch_dsl import Search, Q, connections\n",
    "\n",
    "# 1. 建立连接\n",
    "connections.create_connection(hosts=\"http://localhost:9200\")\n",
    "\n",
    "# 2. 创建查询对象\n",
    "search = Search(index=\"books\")  # 修正拼写错误：原图写成了 num=\"books\"\n",
    "\n",
    "# 3. 构建查询条件\n",
    "query = Q('match', title=\"西游\")  # 修正拼写错误：原图写成了 \"西路\"\n",
    "search = search.query(query)\n",
    "\n",
    "# 4. 执行查询\n",
    "response = search.execute()\n",
    "\n",
    "# 5. 打印结果\n",
    "print(\"=== 命中文档 ===\")\n",
    "for hit in response:\n",
    "    print(f\"标题: {hit.title}\")\n",
    "    print(f\"描述: {hit.description}\\n\")\n",
    "\n",
    "# 6. 打印原始DSL查询语句\n",
    "print(\"=== 原始查询DSL ===\")\n",
    "print(response.to_dict())"
   ]
  },
  {
   "cell_type": "markdown",
   "id": "63d2e08d",
   "metadata": {},
   "source": [
    "### 多重查询\n",
    "使用 MultiSearch 同时执行多个查询并处理结果。\n",
    "多重查询"
   ]
  },
  {
   "cell_type": "code",
   "execution_count": 36,
   "id": "1291faca",
   "metadata": {},
   "outputs": [],
   "source": [
    "from elasticsearch_dsl import MultiSearch"
   ]
  },
  {
   "cell_type": "code",
   "execution_count": 112,
   "id": "e6b32b7a",
   "metadata": {},
   "outputs": [
    {
     "name": "stdout",
     "output_type": "stream",
     "text": [
      "西游记\n",
      "水浒传\n"
     ]
    }
   ],
   "source": [
    "ms =MultiSearch(index='books')\n",
    "\n",
    "#创建第一个查询\n",
    "s1 = Search()\n",
    "s1 = s1.query('match',title='西游')\n",
    "ms = ms.add(s1)\n",
    "\n",
    "#创建第二个查询\n",
    "s2 = Search()\n",
    "s2 = s2.query('match',title='水浒')\n",
    "ms = ms.add(s2)\n",
    "\n",
    "responses = ms.execute()\n",
    "\n",
    "for response in responses:\n",
    "    for hit in response.hits:\n",
    "        print(hit.title)\n"
   ]
  },
  {
   "cell_type": "markdown",
   "id": "3ba7a96d",
   "metadata": {},
   "source": [
    "### 查询调试\n",
    "展示如何查看原始查询 DSL 和调试查询语句。\n"
   ]
  },
  {
   "cell_type": "code",
   "execution_count": 105,
   "id": "b275728a",
   "metadata": {},
   "outputs": [
    {
     "name": "stdout",
     "output_type": "stream",
     "text": [
      "查询1结果:\n",
      "西游记\n",
      "查询2结果:\n",
      "水浒传\n"
     ]
    }
   ],
   "source": [
    "from elasticsearch_dsl import MultiSearch, Search\n",
    "\n",
    "ms = MultiSearch(index='books')\n",
    "\n",
    "# 修正后的查询1：西游记\n",
    "s1 = Search().query('match', title='西游')  # 使用完整书名\n",
    "ms = ms.add(s1)\n",
    "\n",
    "# 查询2：水浒传\n",
    "s2 = Search().query('match', title='水浒')\n",
    "ms = ms.add(s2)\n",
    "\n",
    "responses = ms.execute()\n",
    "\n",
    "for i, response in enumerate(responses):\n",
    "    print(f\"查询{i+1}结果:\")\n",
    "    for hit in response:\n",
    "        print(hit.title)"
   ]
  }
 ],
 "metadata": {
  "kernelspec": {
   "display_name": "elasticsearch_env",
   "language": "python",
   "name": "python3"
  },
  "language_info": {
   "codemirror_mode": {
    "name": "ipython",
    "version": 3
   },
   "file_extension": ".py",
   "mimetype": "text/x-python",
   "name": "python",
   "nbconvert_exporter": "python",
   "pygments_lexer": "ipython3",
   "version": "3.13.2"
  }
 },
 "nbformat": 4,
 "nbformat_minor": 5
}
