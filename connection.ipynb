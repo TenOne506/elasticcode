{
 "cells": [
  {
   "cell_type": "markdown",
   "id": "a46eb3a4",
   "metadata": {},
   "source": [
    "### Elasticsearch 连接与基本操作\n",
    "本笔记本演示如何使用 Python 连接 Elasticsearch 并进行基本操作\n"
   ]
  },
  {
   "cell_type": "markdown",
   "id": "c16c2688",
   "metadata": {},
   "source": [
    "### 基础连接\n",
    "演示使用 elasticsearch-py 库建立到本地 Elasticsearch 的连接，包含基本认证方式。\n"
   ]
  },
  {
   "cell_type": "code",
   "execution_count": null,
   "id": "325fbae3",
   "metadata": {},
   "outputs": [],
   "source": [
    "from elasticsearch import Elasticsearch\n",
    "\n",
    "usename = \"elastic\"\n",
    "password =\"GVjF12vw\"\n",
    "# 连接本地 Elasticsearch（默认端口 9200）\n",
    "# 使用基础认证\n",
    "es = Elasticsearch(\n",
    "    \"http://localhost:9200\",\n",
    "    basic_auth=(usename,password)  # 默认用户是 elastic\n",
    ")\n",
    "\n",
    "\n",
    "# 检查集群健康状态\n",
    "print(es.cluster.health())"
   ]
  },
  {
   "cell_type": "markdown",
   "id": "86c3c127",
   "metadata": {},
   "source": [
    "### 索引操作\n",
    "展示索引的创建、删除、存在性检查等基本管理操作。\n"
   ]
  },
  {
   "cell_type": "code",
   "execution_count": null,
   "id": "fc65137f",
   "metadata": {},
   "outputs": [],
   "source": [
    "# 创建索引\n",
    "es.index(index=\"test-index\", id=1, body={\"title\": \"Hello Elasticsearch\", \"content\": \"Testing in Jupyter!\"})\n",
    "\n",
    "# 查询数据\n",
    "result = es.get(index=\"test-index\", id=1)\n",
    "print(result[\"_source\"])"
   ]
  },
  {
   "cell_type": "code",
   "execution_count": null,
   "id": "4818e085",
   "metadata": {},
   "outputs": [],
   "source": [
    "es.indices.delete(index=\"test-index\", ignore=[404]) "
   ]
  },
  {
   "cell_type": "code",
   "execution_count": null,
   "id": "949749d8",
   "metadata": {},
   "outputs": [],
   "source": [
    "from elasticsearch_dsl import connections,Index\n",
    "connection = connections.create_connection(hosts=\"http://localhost:9200\");"
   ]
  },
  {
   "cell_type": "code",
   "execution_count": null,
   "id": "136f7040",
   "metadata": {},
   "outputs": [],
   "source": [
    "index =Index('books')\n",
    "index.create()\n",
    "#index.force_refresh() "
   ]
  },
  {
   "cell_type": "code",
   "execution_count": null,
   "id": "c5a2e30f",
   "metadata": {},
   "outputs": [],
   "source": [
    "index.exists()"
   ]
  },
  {
   "cell_type": "code",
   "execution_count": null,
   "id": "a9f7048e",
   "metadata": {},
   "outputs": [],
   "source": [
    "index.get_mapping()"
   ]
  },
  {
   "cell_type": "code",
   "execution_count": null,
   "id": "4aee8d9a",
   "metadata": {},
   "outputs": [],
   "source": [
    "index.get_settings()"
   ]
  }
 ],
 "metadata": {
  "kernelspec": {
   "display_name": "elasticsearch_env",
   "language": "python",
   "name": "python3"
  },
  "language_info": {
   "codemirror_mode": {
    "name": "ipython",
    "version": 3
   },
   "file_extension": ".py",
   "mimetype": "text/x-python",
   "name": "python",
   "nbconvert_exporter": "python",
   "pygments_lexer": "ipython3",
   "version": "3.13.2"
  }
 },
 "nbformat": 4,
 "nbformat_minor": 5
}
