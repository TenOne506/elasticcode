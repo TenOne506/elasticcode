{
 "cells": [
  {
   "cell_type": "code",
   "execution_count": 1,
   "id": "325fbae3",
   "metadata": {},
   "outputs": [
    {
     "name": "stdout",
     "output_type": "stream",
     "text": [
      "{'cluster_name': 'docker-cluster', 'status': 'yellow', 'timed_out': False, 'number_of_nodes': 1, 'number_of_data_nodes': 1, 'active_primary_shards': 36, 'active_shards': 36, 'relocating_shards': 0, 'initializing_shards': 0, 'unassigned_shards': 2, 'unassigned_primary_shards': 0, 'delayed_unassigned_shards': 0, 'number_of_pending_tasks': 0, 'number_of_in_flight_fetch': 0, 'task_max_waiting_in_queue_millis': 0, 'active_shards_percent_as_number': 94.73684210526315}\n"
     ]
    }
   ],
   "source": [
    "from elasticsearch import Elasticsearch\n",
    "\n",
    "usename = \"elastic\"\n",
    "password =\"GVjF12vw\"\n",
    "# 连接本地 Elasticsearch（默认端口 9200）\n",
    "# 使用基础认证\n",
    "es = Elasticsearch(\n",
    "    \"http://localhost:9200\",\n",
    "    basic_auth=(usename,password)  # 默认用户是 elastic\n",
    ")\n",
    "\n",
    "\n",
    "# 检查集群健康状态\n",
    "print(es.cluster.health())"
   ]
  },
  {
   "cell_type": "code",
   "execution_count": 2,
   "id": "f02fb743",
   "metadata": {},
   "outputs": [
    {
     "name": "stderr",
     "output_type": "stream",
     "text": [
      "/var/folders/93/f_zc12_134j0w2t15dwtpsl80000gn/T/ipykernel_93084/2708222837.py:1: DeprecationWarning: Passing transport options in the API method is deprecated. Use 'Elasticsearch.options()' instead.\n",
      "  es.indices.delete(index=\"test-index\", ignore=[404])\n"
     ]
    },
    {
     "data": {
      "text/plain": [
       "ObjectApiResponse({'acknowledged': True})"
      ]
     },
     "execution_count": 2,
     "metadata": {},
     "output_type": "execute_result"
    }
   ],
   "source": [
    "es.indices.delete(index=\"test-index\", ignore=[404]) "
   ]
  },
  {
   "cell_type": "code",
   "execution_count": 20,
   "id": "fc65137f",
   "metadata": {},
   "outputs": [
    {
     "name": "stdout",
     "output_type": "stream",
     "text": [
      "{'title': 'Hello Elasticsearch', 'content': 'Testing in Jupyter!'}\n"
     ]
    }
   ],
   "source": [
    "# 创建索引\n",
    "es.index(index=\"test-index\", id=1, body={\"title\": \"Hello Elasticsearch\", \"content\": \"Testing in Jupyter!\"})\n",
    "\n",
    "# 查询数据\n",
    "result = es.get(index=\"test-index\", id=1)\n",
    "print(result[\"_source\"])"
   ]
  },
  {
   "cell_type": "code",
   "execution_count": 3,
   "id": "949749d8",
   "metadata": {},
   "outputs": [],
   "source": [
    "from elasticsearch_dsl import connections,Index\n",
    "connection = connections.create_connection(hosts=\"http://localhost:9200\");"
   ]
  },
  {
   "cell_type": "code",
   "execution_count": 4,
   "id": "136f7040",
   "metadata": {},
   "outputs": [
    {
     "data": {
      "text/plain": [
       "ObjectApiResponse({'acknowledged': True, 'shards_acknowledged': True, 'index': 'books'})"
      ]
     },
     "execution_count": 4,
     "metadata": {},
     "output_type": "execute_result"
    }
   ],
   "source": [
    "index =Index('books')\n",
    "index.create()\n",
    "#index.force_refresh() "
   ]
  },
  {
   "cell_type": "code",
   "execution_count": 5,
   "id": "c5a2e30f",
   "metadata": {},
   "outputs": [
    {
     "data": {
      "text/plain": [
       "True"
      ]
     },
     "execution_count": 5,
     "metadata": {},
     "output_type": "execute_result"
    }
   ],
   "source": [
    "index.exists()"
   ]
  },
  {
   "cell_type": "code",
   "execution_count": 7,
   "id": "a9f7048e",
   "metadata": {},
   "outputs": [
    {
     "data": {
      "text/plain": [
       "ObjectApiResponse({'books': {'mappings': {}}})"
      ]
     },
     "execution_count": 7,
     "metadata": {},
     "output_type": "execute_result"
    }
   ],
   "source": [
    "index.get_mapping()"
   ]
  },
  {
   "cell_type": "code",
   "execution_count": 6,
   "id": "4aee8d9a",
   "metadata": {},
   "outputs": [
    {
     "data": {
      "text/plain": [
       "ObjectApiResponse({'books': {'settings': {'index': {'routing': {'allocation': {'include': {'_tier_preference': 'data_content'}}}, 'number_of_shards': '1', 'provided_name': 'books', 'creation_date': '1746264213582', 'number_of_replicas': '1', 'uuid': 'TMzcyopmQ-KRnoHLWCkW4g', 'version': {'created': '9009000'}}}}})"
      ]
     },
     "execution_count": 6,
     "metadata": {},
     "output_type": "execute_result"
    }
   ],
   "source": [
    "index.get_settings()"
   ]
  }
 ],
 "metadata": {
  "kernelspec": {
   "display_name": "elasticsearch_env",
   "language": "python",
   "name": "python3"
  },
  "language_info": {
   "codemirror_mode": {
    "name": "ipython",
    "version": 3
   },
   "file_extension": ".py",
   "mimetype": "text/x-python",
   "name": "python",
   "nbconvert_exporter": "python",
   "pygments_lexer": "ipython3",
   "version": "3.13.2"
  }
 },
 "nbformat": 4,
 "nbformat_minor": 5
}
