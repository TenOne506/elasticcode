{
 "cells": [
  {
   "cell_type": "code",
   "execution_count": 3,
   "id": "3470df42",
   "metadata": {},
   "outputs": [],
   "source": [
    "from elasticsearch_dsl.query import Regexp,Query,Fuzzy\n",
    "from elasticsearch_dsl import Q,Search,connections\n",
    "connection = connections.create_connection(hosts=\"http://localhost:9200\")\n",
    "\n",
    "def search_query(search,query,columns):\n",
    "    s = search.query(query)\n",
    "    respose = s.execute()\n",
    "\n",
    "    for hit in respose.hits:\n",
    "        for col in columns:\n",
    "            print(f\"{col}:{hit.to_dict().get(col)}\")"
   ]
  },
  {
   "cell_type": "code",
   "execution_count": 2,
   "id": "c5eaf98c",
   "metadata": {},
   "outputs": [],
   "source": [
    "search =Search(index='books')"
   ]
  },
  {
   "cell_type": "code",
   "execution_count": 4,
   "id": "19a019e4",
   "metadata": {},
   "outputs": [
    {
     "name": "stdout",
     "output_type": "stream",
     "text": [
      "title:Python\n"
     ]
    }
   ],
   "source": [
    "query = Fuzzy(title={'value':'python','fuzziness':0})\n",
    "search_query(search,query,columns=['title'])"
   ]
  },
  {
   "cell_type": "code",
   "execution_count": null,
   "id": "b2d4075b",
   "metadata": {},
   "outputs": [],
   "source": [
    "query = Fuzzy(title={'value':'Python','fuzziness':0})\n",
    "search_query(search,query,columns=['title'])"
   ]
  },
  {
   "cell_type": "code",
   "execution_count": 6,
   "id": "5f8298ff",
   "metadata": {},
   "outputs": [
    {
     "name": "stdout",
     "output_type": "stream",
     "text": [
      "title:Python\n"
     ]
    }
   ],
   "source": [
    "query = Fuzzy(title={'value':'Python','fuzziness':1})\n",
    "search_query(search,query,columns=['title'])"
   ]
  },
  {
   "cell_type": "code",
   "execution_count": 8,
   "id": "7a42ce3a",
   "metadata": {},
   "outputs": [
    {
     "name": "stdout",
     "output_type": "stream",
     "text": [
      "title:Python\n"
     ]
    }
   ],
   "source": [
    "query = Fuzzy(title={'value':'pthn','fuzziness':2})\n",
    "search_query(search,query,columns=['title'])"
   ]
  },
  {
   "cell_type": "code",
   "execution_count": 10,
   "id": "b14d1cce",
   "metadata": {},
   "outputs": [
    {
     "name": "stdout",
     "output_type": "stream",
     "text": [
      "title:红楼梦\n"
     ]
    }
   ],
   "source": [
    "query = Fuzzy(title={'value':'红','fuzziness':0})\n",
    "search_query(search,query,columns=['title'])"
   ]
  },
  {
   "cell_type": "code",
   "execution_count": 13,
   "id": "c88e2323",
   "metadata": {},
   "outputs": [
    {
     "name": "stdout",
     "output_type": "stream",
     "text": [
      "title:红楼梦\n",
      "title:西游记\n",
      "title:水浒传\n",
      "title:三国演义\n",
      "title:创意者的突破\n",
      "title:追风筝的人\n",
      "title:马拉拉的故事\n",
      "title:爱因斯坦传\n"
     ]
    }
   ],
   "source": [
    "query = Fuzzy(title={'value':'红','fuzziness':1})\n",
    "search_query(search,query,columns=['title'])"
   ]
  },
  {
   "cell_type": "code",
   "execution_count": 14,
   "id": "8ed49b1f",
   "metadata": {},
   "outputs": [
    {
     "name": "stdout",
     "output_type": "stream",
     "text": [
      "title:红楼梦\n"
     ]
    }
   ],
   "source": [
    "query = Fuzzy(title={'value':'红楼','fuzziness':1})\n",
    "search_query(search,query,columns=['title'])"
   ]
  },
  {
   "cell_type": "code",
   "execution_count": null,
   "id": "60178484",
   "metadata": {},
   "outputs": [
    {
     "name": "stdout",
     "output_type": "stream",
     "text": [
      "title:红楼梦\n"
     ]
    }
   ],
   "source": [
    "query = Fuzzy(title={'value':'红楼','fuzziness':2})\n",
    "search_query(search,query,columns=['title'])"
   ]
  },
  {
   "cell_type": "code",
   "execution_count": 19,
   "id": "0da6ab93",
   "metadata": {},
   "outputs": [],
   "source": [
    "query = Fuzzy(title={'value':'红楼','fuzziness':'auto'})\n",
    "search_query(search,query,columns=['title'])"
   ]
  },
  {
   "cell_type": "code",
   "execution_count": 20,
   "id": "7f7f233f",
   "metadata": {},
   "outputs": [
    {
     "name": "stdout",
     "output_type": "stream",
     "text": [
      "title:红楼梦\n"
     ]
    }
   ],
   "source": [
    "query = Fuzzy(title={'value':'红','fuzziness':'auto'})\n",
    "search_query(search,query,columns=['title'])"
   ]
  }
 ],
 "metadata": {
  "kernelspec": {
   "display_name": "elasticsearch_env",
   "language": "python",
   "name": "python3"
  },
  "language_info": {
   "codemirror_mode": {
    "name": "ipython",
    "version": 3
   },
   "file_extension": ".py",
   "mimetype": "text/x-python",
   "name": "python",
   "nbconvert_exporter": "python",
   "pygments_lexer": "ipython3",
   "version": "3.13.2"
  }
 },
 "nbformat": 4,
 "nbformat_minor": 5
}
