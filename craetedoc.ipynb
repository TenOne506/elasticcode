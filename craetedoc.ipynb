{
 "cells": [
  {
   "cell_type": "code",
   "execution_count": 48,
   "id": "601337dd",
   "metadata": {},
   "outputs": [],
   "source": [
    "from elasticsearch_dsl import connections,Index,Document,Text,Integer,Boolean,Keyword,Date"
   ]
  },
  {
   "cell_type": "code",
   "execution_count": 49,
   "id": "d2927c83",
   "metadata": {},
   "outputs": [],
   "source": [
    "connection = connections.create_connection(hosts=\"http://localhost:9200\");"
   ]
  },
  {
   "cell_type": "code",
   "execution_count": 50,
   "id": "70558ae2",
   "metadata": {},
   "outputs": [],
   "source": [
    "class Books(Document):\n",
    "    title = Text()\n",
    "    description = Text()\n",
    "    category = Keyword()\n",
    "    price = Integer()\n",
    "    in_stock = Boolean()\n",
    "    timestamp = Date()  # 关键字段\n",
    "\n",
    "    class Index:\n",
    "        name=\"books\"\n",
    "        settings = {\n",
    "            \"number_of_shards\": 1,\n",
    "            \"number_of_replicas\": 0  # 开发环境建议设为0\n",
    "        }\n",
    "    # class Index:\n",
    "    #     name=\"books\";"
   ]
  },
  {
   "cell_type": "code",
   "execution_count": 51,
   "id": "28c4e472",
   "metadata": {},
   "outputs": [],
   "source": [
    "if Index(\"books\").exists():\n",
    "    Index(\"books\").delete"
   ]
  },
  {
   "cell_type": "code",
   "execution_count": 52,
   "id": "f37e91e8",
   "metadata": {},
   "outputs": [
    {
     "data": {
      "text/html": [
       "<div>\n",
       "<style scoped>\n",
       "    .dataframe tbody tr th:only-of-type {\n",
       "        vertical-align: middle;\n",
       "    }\n",
       "\n",
       "    .dataframe tbody tr th {\n",
       "        vertical-align: top;\n",
       "    }\n",
       "\n",
       "    .dataframe thead th {\n",
       "        text-align: right;\n",
       "    }\n",
       "</style>\n",
       "<table border=\"1\" class=\"dataframe\">\n",
       "  <thead>\n",
       "    <tr style=\"text-align: right;\">\n",
       "      <th></th>\n",
       "      <th>title</th>\n",
       "      <th>description</th>\n",
       "      <th>category</th>\n",
       "      <th>price</th>\n",
       "      <th>in_stock</th>\n",
       "    </tr>\n",
       "  </thead>\n",
       "  <tbody>\n",
       "    <tr>\n",
       "      <th>0</th>\n",
       "      <td>西游记</td>\n",
       "      <td>由明朝作家吴承恩创作，讲述了孙悟空、猪八戒、沙僧等人与唐僧师徒四人西天取经的故事。小说通过描...</td>\n",
       "      <td>小说</td>\n",
       "      <td>10</td>\n",
       "      <td>False</td>\n",
       "    </tr>\n",
       "    <tr>\n",
       "      <th>1</th>\n",
       "      <td>红楼梦</td>\n",
       "      <td>由清朝作家曹雪芹创作，被誉为中国古代小说的巅峰之作。小说描绘了贾宝玉、林黛玉等人的生活，以及...</td>\n",
       "      <td>小说</td>\n",
       "      <td>20</td>\n",
       "      <td>True</td>\n",
       "    </tr>\n",
       "    <tr>\n",
       "      <th>2</th>\n",
       "      <td>水浒传</td>\n",
       "      <td>由明朝作家施耐庵创作，讲述了宋朝末年一群落难英雄在梁山泊起义反抗统治者的故事。小说通过塑造众...</td>\n",
       "      <td>小说</td>\n",
       "      <td>45</td>\n",
       "      <td>False</td>\n",
       "    </tr>\n",
       "    <tr>\n",
       "      <th>3</th>\n",
       "      <td>三国演义</td>\n",
       "      <td>由明朝作家罗贯中创作，讲述了三国时期的历史故事。小说通过描绘曹操、刘备、孙权等历史人物的生活...</td>\n",
       "      <td>小说</td>\n",
       "      <td>30</td>\n",
       "      <td>True</td>\n",
       "    </tr>\n",
       "    <tr>\n",
       "      <th>4</th>\n",
       "      <td>创意者的突破</td>\n",
       "      <td>（\"The Innovators: How a Group of Hackers, Geni...</td>\n",
       "      <td>传记</td>\n",
       "      <td>10</td>\n",
       "      <td>False</td>\n",
       "    </tr>\n",
       "    <tr>\n",
       "      <th>5</th>\n",
       "      <td>追风筝的人</td>\n",
       "      <td>（\"The Kite Runner\"）：由卡勒德·胡赛尼（Khaled Hosseini）所...</td>\n",
       "      <td>传记</td>\n",
       "      <td>20</td>\n",
       "      <td>True</td>\n",
       "    </tr>\n",
       "    <tr>\n",
       "      <th>6</th>\n",
       "      <td>马拉拉的故事</td>\n",
       "      <td>（\"I Am Malala: The Girl Who Stood Up for Educa...</td>\n",
       "      <td>传记</td>\n",
       "      <td>45</td>\n",
       "      <td>False</td>\n",
       "    </tr>\n",
       "    <tr>\n",
       "      <th>7</th>\n",
       "      <td>爱因斯坦传</td>\n",
       "      <td>（\"Einstein: His Life and Universe\"）：由沃尔特·艾萨克森所...</td>\n",
       "      <td>传记</td>\n",
       "      <td>35</td>\n",
       "      <td>True</td>\n",
       "    </tr>\n",
       "    <tr>\n",
       "      <th>8</th>\n",
       "      <td>Python</td>\n",
       "      <td>Python elastic search</td>\n",
       "      <td>工具</td>\n",
       "      <td>47</td>\n",
       "      <td>True</td>\n",
       "    </tr>\n",
       "    <tr>\n",
       "      <th>9</th>\n",
       "      <td>Term</td>\n",
       "      <td>Term-context</td>\n",
       "      <td>test</td>\n",
       "      <td>5</td>\n",
       "      <td>False</td>\n",
       "    </tr>\n",
       "  </tbody>\n",
       "</table>\n",
       "</div>"
      ],
      "text/plain": [
       "    title                                        description category  price  \\\n",
       "0     西游记  由明朝作家吴承恩创作，讲述了孙悟空、猪八戒、沙僧等人与唐僧师徒四人西天取经的故事。小说通过描...       小说     10   \n",
       "1     红楼梦  由清朝作家曹雪芹创作，被誉为中国古代小说的巅峰之作。小说描绘了贾宝玉、林黛玉等人的生活，以及...       小说     20   \n",
       "2     水浒传  由明朝作家施耐庵创作，讲述了宋朝末年一群落难英雄在梁山泊起义反抗统治者的故事。小说通过塑造众...       小说     45   \n",
       "3    三国演义  由明朝作家罗贯中创作，讲述了三国时期的历史故事。小说通过描绘曹操、刘备、孙权等历史人物的生活...       小说     30   \n",
       "4  创意者的突破  （\"The Innovators: How a Group of Hackers, Geni...       传记     10   \n",
       "5   追风筝的人  （\"The Kite Runner\"）：由卡勒德·胡赛尼（Khaled Hosseini）所...       传记     20   \n",
       "6  马拉拉的故事  （\"I Am Malala: The Girl Who Stood Up for Educa...       传记     45   \n",
       "7   爱因斯坦传  （\"Einstein: His Life and Universe\"）：由沃尔特·艾萨克森所...       传记     35   \n",
       "8  Python                              Python elastic search       工具     47   \n",
       "9    Term                                       Term-context     test      5   \n",
       "\n",
       "   in_stock  \n",
       "0     False  \n",
       "1      True  \n",
       "2     False  \n",
       "3      True  \n",
       "4     False  \n",
       "5      True  \n",
       "6     False  \n",
       "7      True  \n",
       "8      True  \n",
       "9     False  "
      ]
     },
     "execution_count": 52,
     "metadata": {},
     "output_type": "execute_result"
    }
   ],
   "source": [
    "import pandas as pd\n",
    "\n",
    "df_book = pd.read_csv(\"./data/books.csv\")\n",
    "df_book"
   ]
  },
  {
   "cell_type": "code",
   "execution_count": 54,
   "id": "2333173a",
   "metadata": {},
   "outputs": [
    {
     "name": "stdout",
     "output_type": "stream",
     "text": [
      "title                                                        西游记\n",
      "description    由明朝作家吴承恩创作，讲述了孙悟空、猪八戒、沙僧等人与唐僧师徒四人西天取经的故事。小说通过描...\n",
      "category                                                      小说\n",
      "price                                                         10\n",
      "in_stock                                                   False\n",
      "Name: 0, dtype: object\n",
      "Empty DataFrame\n",
      "Columns: [title, description, category, price, in_stock]\n",
      "Index: []\n"
     ]
    }
   ],
   "source": [
    "#构建文档\n",
    "\n",
    "data = df_book.iloc[0,:]\n",
    "print(data)\n",
    "print(df_book[df_book.title.duplicated()])  # 检查DataFrame是否有重复"
   ]
  },
  {
   "cell_type": "code",
   "execution_count": 34,
   "id": "62d839ee",
   "metadata": {},
   "outputs": [
    {
     "data": {
      "text/plain": [
       "Books()"
      ]
     },
     "execution_count": 34,
     "metadata": {},
     "output_type": "execute_result"
    }
   ],
   "source": [
    "book = Books(\n",
    "    title = data.title,description=data.description,\n",
    "    category=data.category,price=data.price,in_stock=data.in_stock\n",
    ")\n",
    "book"
   ]
  },
  {
   "cell_type": "code",
   "execution_count": 55,
   "id": "f4487298",
   "metadata": {},
   "outputs": [
    {
     "name": "stdout",
     "output_type": "stream",
     "text": [
      "0\n",
      "1\n",
      "2\n",
      "3\n",
      "4\n",
      "5\n",
      "6\n",
      "7\n",
      "8\n",
      "9\n"
     ]
    }
   ],
   "source": [
    "from datetime import datetime\n",
    "\n",
    "\n",
    "for row_no,row in df_book.iterrows():\n",
    "    print(row_no)\n",
    "    book = Books(\n",
    "        title = row.title,description=row.description,\n",
    "        category=row.category,price=row.price,in_stock=row.in_stock,\n",
    "        #timestamp=datetime.utcnow()  # 自动添加当前时间\n",
    "    )\n",
    "    book.save()"
   ]
  },
  {
   "cell_type": "code",
   "execution_count": 47,
   "id": "1068031e",
   "metadata": {},
   "outputs": [
    {
     "name": "stdout",
     "output_type": "stream",
     "text": [
      "Empty DataFrame\n",
      "Columns: [title, description, category, price, in_stock]\n",
      "Index: []\n"
     ]
    }
   ],
   "source": [
    "print(df_book[df_book.title.duplicated()])  # 检查DataFrame是否有重复"
   ]
  }
 ],
 "metadata": {
  "kernelspec": {
   "display_name": "elasticsearch_env",
   "language": "python",
   "name": "python3"
  },
  "language_info": {
   "codemirror_mode": {
    "name": "ipython",
    "version": 3
   },
   "file_extension": ".py",
   "mimetype": "text/x-python",
   "name": "python",
   "nbconvert_exporter": "python",
   "pygments_lexer": "ipython3",
   "version": "3.13.2"
  }
 },
 "nbformat": 4,
 "nbformat_minor": 5
}
