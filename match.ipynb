{
 "cells": [
  {
   "cell_type": "markdown",
   "id": "e4337710",
   "metadata": {},
   "source": [
    "### Macth"
   ]
  },
  {
   "cell_type": "code",
   "execution_count": 25,
   "id": "1bb2ae48",
   "metadata": {},
   "outputs": [],
   "source": [
    "from elasticsearch_dsl import Search,connections\n",
    "from elasticsearch_dsl.query import Match\n",
    "\n",
    "connection = connections.create_connection(hosts=\"http://localhost:9200\");"
   ]
  },
  {
   "cell_type": "code",
   "execution_count": 26,
   "id": "fdbce71f",
   "metadata": {},
   "outputs": [],
   "source": [
    "def search_query(search,query,columns):\n",
    "    s = search.query(query)\n",
    "    respose = s.execute()\n",
    "\n",
    "    for hit in respose.hits:\n",
    "        for col in columns:\n",
    "            print(f\"{col}:{hit.to_dict().get(col)}\")\n",
    "            "
   ]
  },
  {
   "cell_type": "code",
   "execution_count": 31,
   "id": "9ead2350",
   "metadata": {},
   "outputs": [
    {
     "name": "stdout",
     "output_type": "stream",
     "text": [
      "title:水浒传\n"
     ]
    }
   ],
   "source": [
    "search = Search(index='books')\n",
    "\n",
    "query = Match(title='水')\n",
    "search_query(search,query,columns=['title'])"
   ]
  },
  {
   "cell_type": "markdown",
   "id": "e3ff1932",
   "metadata": {},
   "source": [
    "### Match all"
   ]
  },
  {
   "cell_type": "code",
   "execution_count": 32,
   "id": "f78cf363",
   "metadata": {},
   "outputs": [],
   "source": [
    "from elasticsearch_dsl.query import MatchAll"
   ]
  },
  {
   "cell_type": "code",
   "execution_count": 33,
   "id": "dac0ee55",
   "metadata": {},
   "outputs": [
    {
     "name": "stdout",
     "output_type": "stream",
     "text": [
      "title:西游记\n",
      "title:红楼梦\n",
      "title:水浒传\n",
      "title:三国演义\n",
      "title:创意者的突破\n",
      "title:追风筝的人\n",
      "title:马拉拉的故事\n",
      "title:爱因斯坦传\n",
      "title:Python\n",
      "title:Term\n"
     ]
    }
   ],
   "source": [
    "query = MatchAll()\n",
    "search_query(search,query,columns=['title'])"
   ]
  },
  {
   "cell_type": "markdown",
   "id": "75f64bac",
   "metadata": {},
   "source": [
    "### MatchPhrase"
   ]
  },
  {
   "cell_type": "code",
   "execution_count": 35,
   "id": "a7f75fe2",
   "metadata": {},
   "outputs": [],
   "source": [
    "from elasticsearch_dsl.query import MatchPhrase"
   ]
  },
  {
   "cell_type": "code",
   "execution_count": 37,
   "id": "353af1ab",
   "metadata": {},
   "outputs": [
    {
     "name": "stdout",
     "output_type": "stream",
     "text": [
      "title:西游记\n"
     ]
    }
   ],
   "source": [
    "query = MatchPhrase(title='西游')\n",
    "search_query(search,query,columns=['title'])"
   ]
  },
  {
   "cell_type": "code",
   "execution_count": 41,
   "id": "94555ac3",
   "metadata": {},
   "outputs": [
    {
     "name": "stdout",
     "output_type": "stream",
     "text": [
      "title:追风筝的人\n",
      "title:水浒传\n",
      "title:三国演义\n",
      "title:创意者的突破\n",
      "title:马拉拉的故事\n"
     ]
    }
   ],
   "source": [
    "query = MatchPhrase(description='一')\n",
    "search_query(search,query,columns=['title'])"
   ]
  },
  {
   "cell_type": "markdown",
   "id": "5d77e56b",
   "metadata": {},
   "source": [
    "### MatchPhasePrefix"
   ]
  },
  {
   "cell_type": "code",
   "execution_count": 43,
   "id": "a34f60d5",
   "metadata": {},
   "outputs": [],
   "source": [
    "from elasticsearch_dsl.query import MatchPhrasePrefix"
   ]
  },
  {
   "cell_type": "code",
   "execution_count": 45,
   "id": "1e8301e0",
   "metadata": {},
   "outputs": [
    {
     "name": "stdout",
     "output_type": "stream",
     "text": [
      "description:由明朝作家吴承恩创作，讲述了孙悟空、猪八戒、沙僧等人与唐僧师徒四人西天取经的故事。小说通过描绘师徒四人在取经路上所遭遇的种种艰难险阻，反映了人性的善恶、道德观念和宽容精神，成为中国文学的经典之作。\n"
     ]
    }
   ],
   "source": [
    "query = MatchPhrasePrefix(description='吴承')\n",
    "search_query(search,query,columns=['description'])"
   ]
  }
 ],
 "metadata": {
  "kernelspec": {
   "display_name": "elasticsearch_env",
   "language": "python",
   "name": "python3"
  },
  "language_info": {
   "codemirror_mode": {
    "name": "ipython",
    "version": 3
   },
   "file_extension": ".py",
   "mimetype": "text/x-python",
   "name": "python",
   "nbconvert_exporter": "python",
   "pygments_lexer": "ipython3",
   "version": "3.13.2"
  }
 },
 "nbformat": 4,
 "nbformat_minor": 5
}
