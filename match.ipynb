{
 "cells": [
  {
   "cell_type": "markdown",
   "id": "1267c7df",
   "metadata": {},
   "source": [
    "### Macth\n",
    "此部分演示基本的 Match 查询，用于在单个字段中搜索精确匹配的词项。\n"
   ]
  },
  {
   "cell_type": "code",
   "execution_count": 1,
   "id": "1bb2ae48",
   "metadata": {},
   "outputs": [],
   "source": [
    "from elasticsearch_dsl import Search,connections\n",
    "from elasticsearch_dsl.query import Match\n",
    "\n",
    "connection = connections.create_connection(hosts=\"http://localhost:9200\");"
   ]
  },
  {
   "cell_type": "code",
   "execution_count": 2,
   "id": "fdbce71f",
   "metadata": {},
   "outputs": [],
   "source": [
    "def search_query(search,query,columns):\n",
    "    s = search.query(query)\n",
    "    respose = s.execute()\n",
    "\n",
    "    for hit in respose.hits:\n",
    "        for col in columns:\n",
    "            print(f\"{col}:{hit.to_dict().get(col)}\")\n",
    "            "
   ]
  },
  {
   "cell_type": "code",
   "execution_count": 3,
   "id": "9ead2350",
   "metadata": {},
   "outputs": [
    {
     "name": "stdout",
     "output_type": "stream",
     "text": [
      "title:水浒传\n"
     ]
    }
   ],
   "source": [
    "search = Search(index='books')\n",
    "\n",
    "query = Match(title='水')\n",
    "search_query(search,query,columns=['title'])"
   ]
  },
  {
   "cell_type": "markdown",
   "id": "e3ff1932",
   "metadata": {},
   "source": [
    "### Match all\n",
    "MatchAll 查询会返回索引中的所有文档，常用于获取完整数据集或测试目的。\n"
   ]
  },
  {
   "cell_type": "code",
   "execution_count": null,
   "id": "f78cf363",
   "metadata": {},
   "outputs": [],
   "source": [
    "from elasticsearch_dsl.query import MatchAll"
   ]
  },
  {
   "cell_type": "code",
   "execution_count": null,
   "id": "dac0ee55",
   "metadata": {},
   "outputs": [],
   "source": [
    "query = MatchAll()\n",
    "search_query(search,query,columns=['title'])"
   ]
  },
  {
   "cell_type": "markdown",
   "id": "75f64bac",
   "metadata": {},
   "source": [
    "### MatchPhrase\n",
    "短语匹配查询，要求词项必须按指定顺序完全匹配，适合搜索固定短语的场景。\n"
   ]
  },
  {
   "cell_type": "code",
   "execution_count": null,
   "id": "a7f75fe2",
   "metadata": {},
   "outputs": [],
   "source": [
    "from elasticsearch_dsl.query import MatchPhrase"
   ]
  },
  {
   "cell_type": "code",
   "execution_count": null,
   "id": "353af1ab",
   "metadata": {},
   "outputs": [],
   "source": [
    "query = MatchPhrase(title='西游')\n",
    "search_query(search,query,columns=['title'])"
   ]
  },
  {
   "cell_type": "markdown",
   "id": "5d77e56b",
   "metadata": {},
   "source": [
    "### MatchPhasePrefix\n",
    "短语前缀匹配，可以匹配以指定短语开头的文档，支持自动补全类功能。\n"
   ]
  },
  {
   "cell_type": "code",
   "execution_count": null,
   "id": "a34f60d5",
   "metadata": {},
   "outputs": [],
   "source": [
    "from elasticsearch_dsl.query import MatchPhrasePrefix"
   ]
  },
  {
   "cell_type": "code",
   "execution_count": null,
   "id": "1e8301e0",
   "metadata": {},
   "outputs": [],
   "source": [
    "query = MatchPhrasePrefix(description='吴承')\n",
    "search_query(search,query,columns=['description'])"
   ]
  },
  {
   "cell_type": "code",
   "execution_count": null,
   "id": "815e0b0c",
   "metadata": {},
   "outputs": [],
   "source": [
    "query = MatchPhrasePrefix(description='py')\n",
    "search_query(search,query,columns=['description'])"
   ]
  },
  {
   "cell_type": "markdown",
   "id": "36e97156",
   "metadata": {},
   "source": [
    "### MatchBoolPrefix\n",
    "布尔前缀匹配，结合布尔逻辑和前缀匹配，适合复杂的前缀搜索场景。\n"
   ]
  },
  {
   "cell_type": "code",
   "execution_count": null,
   "id": "2b586574",
   "metadata": {},
   "outputs": [],
   "source": [
    "from elasticsearch_dsl.query import MatchBoolPrefix\n",
    "\n",
    "query = MatchBoolPrefix(title='py')\n",
    "query=query & Match(category='工具')\n",
    "\n",
    "search_query(search,query,columns=['description'])"
   ]
  },
  {
   "cell_type": "markdown",
   "id": "47dbbdbe",
   "metadata": {},
   "source": [
    "### MatchNone\n",
    "特殊查询类型，用于匹配零文档，常用于测试或条件查询的否定情况。\n"
   ]
  },
  {
   "cell_type": "code",
   "execution_count": null,
   "id": "91a762f8",
   "metadata": {},
   "outputs": [],
   "source": [
    "from elasticsearch_dsl.query import MatchNone\n",
    "s=Search(index=\"books\")\n",
    "query = MatchNone()\n",
    "s =s.query(query)\n",
    "\n",
    "response = s.execute()\n",
    "\n",
    "if response.hits.total.value == 0:\n",
    "    print(\"Documents Not found:\")\n",
    "\n",
    "search_query(search,query,columns=['description'])"
   ]
  },
  {
   "cell_type": "markdown",
   "id": "bb8e9d10",
   "metadata": {},
   "source": [
    "### MultiMatch\n",
    "多字段匹配查询，可以在多个字段中搜索相同词项，支持字段权重和最小匹配数设置。\n"
   ]
  },
  {
   "cell_type": "code",
   "execution_count": null,
   "id": "cbf860a1",
   "metadata": {},
   "outputs": [],
   "source": [
    "from elasticsearch_dsl.query import MultiMatch"
   ]
  },
  {
   "cell_type": "code",
   "execution_count": null,
   "id": "7539f392",
   "metadata": {},
   "outputs": [],
   "source": [
    "query = MultiMatch(query='西游记',fields=['title','description'])\n",
    "search_query(search,query,columns=['title','description'])"
   ]
  },
  {
   "cell_type": "code",
   "execution_count": null,
   "id": "07dffed5",
   "metadata": {},
   "outputs": [],
   "source": [
    "query = MultiMatch(query='一',fields=['description'],minimum_should_match=1)\n",
    "search_query(search,query,columns=['title','description'])"
   ]
  },
  {
   "cell_type": "code",
   "execution_count": null,
   "id": "944a04bf",
   "metadata": {},
   "outputs": [],
   "source": [
    "query = MultiMatch(query='西游记',fields=['title'],minimum_should_match=4)\n",
    "search_query(search,query,columns=['title','description'])"
   ]
  }
 ],
 "metadata": {
  "kernelspec": {
   "display_name": "elasticsearch_env",
   "language": "python",
   "name": "python3"
  },
  "language_info": {
   "codemirror_mode": {
    "name": "ipython",
    "version": 3
   },
   "file_extension": ".py",
   "mimetype": "text/x-python",
   "name": "python",
   "nbconvert_exporter": "python",
   "pygments_lexer": "ipython3",
   "version": "3.13.2"
  }
 },
 "nbformat": 4,
 "nbformat_minor": 5
}
