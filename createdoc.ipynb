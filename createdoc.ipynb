{
 "cells": [
  {
   "cell_type": "markdown",
   "id": "c6c5e711",
   "metadata": {},
   "source": [
    "### Elasticsearch 文档创建与管理\n",
    "本笔记本演示如何使用 Python 创建和管理 Elasticsearch 文档\n"
   ]
  },
  {
   "cell_type": "code",
   "execution_count": null,
   "id": "601337dd",
   "metadata": {},
   "outputs": [],
   "source": [
    "from elasticsearch_dsl import connections,Index,Document,Text,Integer,Boolean,Keyword,Date"
   ]
  },
  {
   "cell_type": "markdown",
   "id": "312b6d9a",
   "metadata": {},
   "source": [
    "### 连接与索引设置\n",
    "建立 Elasticsearch 连接并定义文档映射结构，包含字段类型和索引配置。\n"
   ]
  },
  {
   "cell_type": "code",
   "execution_count": null,
   "id": "d2927c83",
   "metadata": {},
   "outputs": [],
   "source": [
    "connection = connections.create_connection(hosts=\"http://localhost:9200\");"
   ]
  },
  {
   "cell_type": "code",
   "execution_count": null,
   "id": "70558ae2",
   "metadata": {},
   "outputs": [],
   "source": [
    "class Books(Document):\n",
    "    title = Text()\n",
    "    description = Text()\n",
    "    category = Keyword()\n",
    "    price = Integer()\n",
    "    in_stock = Boolean()\n",
    "    timestamp = Date()  # 关键字段\n",
    "\n",
    "    class Index:\n",
    "        name=\"books\"\n",
    "        settings = {\n",
    "            \"number_of_shards\": 1,\n",
    "            \"number_of_replicas\": 0  # 开发环境建议设为0\n",
    "        }\n",
    "    # class Index:\n",
    "    #     name=\"books\";"
   ]
  },
  {
   "cell_type": "code",
   "execution_count": null,
   "id": "28c4e472",
   "metadata": {},
   "outputs": [],
   "source": [
    "if Index(\"books\").exists():\n",
    "    Index(\"books\").delete"
   ]
  },
  {
   "cell_type": "markdown",
   "id": "c8194b25",
   "metadata": {},
   "source": [
    "### 数据准备\n",
    "从 CSV 文件加载书籍数据，包含标题、描述、类别、价格和库存状态等信息。\n"
   ]
  },
  {
   "cell_type": "code",
   "execution_count": null,
   "id": "f37e91e8",
   "metadata": {},
   "outputs": [],
   "source": [
    "import pandas as pd\n",
    "\n",
    "df_book = pd.read_csv(\"./data/books.csv\")\n",
    "df_book"
   ]
  },
  {
   "cell_type": "code",
   "execution_count": null,
   "id": "2333173a",
   "metadata": {},
   "outputs": [],
   "source": [
    "#构建文档\n",
    "\n",
    "data = df_book.iloc[0,:]\n",
    "print(data)\n",
    "print(df_book[df_book.title.duplicated()])  # 检查DataFrame是否有重复"
   ]
  },
  {
   "cell_type": "markdown",
   "id": "38cec316",
   "metadata": {},
   "source": [
    "### 单文档创建\n",
    "演示如何创建单个文档并保存到 Elasticsearch 索引中。\n"
   ]
  },
  {
   "cell_type": "code",
   "execution_count": null,
   "id": "62d839ee",
   "metadata": {},
   "outputs": [],
   "source": [
    "book = Books(\n",
    "    title = data.title,description=data.description,\n",
    "    category=data.category,price=data.price,in_stock=data.in_stock\n",
    ")\n",
    "book"
   ]
  },
  {
   "cell_type": "markdown",
   "id": "7e088590",
   "metadata": {},
   "source": [
    "### 批量文档创建\n",
    "使用循环批量导入所有书籍数据到 Elasticsearch 索引。\n"
   ]
  },
  {
   "cell_type": "code",
   "execution_count": null,
   "id": "f4487298",
   "metadata": {},
   "outputs": [],
   "source": [
    "from datetime import datetime\n",
    "\n",
    "\n",
    "for row_no,row in df_book.iterrows():\n",
    "    print(row_no)\n",
    "    book = Books(\n",
    "        title = row.title,description=row.description,\n",
    "        category=row.category,price=row.price,in_stock=row.in_stock,\n",
    "        #timestamp=datetime.utcnow()  # 自动添加当前时间\n",
    "    )\n",
    "    book.save()"
   ]
  },
  {
   "cell_type": "markdown",
   "id": "c82c1842",
   "metadata": {},
   "source": [
    "### 数据验证\n",
    "检查数据重复性，确保导入数据的完整性。\n"
   ]
  },
  {
   "cell_type": "code",
   "execution_count": null,
   "id": "1068031e",
   "metadata": {},
   "outputs": [],
   "source": [
    "print(df_book[df_book.title.duplicated()])  # 检查DataFrame是否有重复"
   ]
  }
 ],
 "metadata": {
  "kernelspec": {
   "display_name": "elasticsearch_env",
   "language": "python",
   "name": "python3"
  },
  "language_info": {
   "codemirror_mode": {
    "name": "ipython",
    "version": 3
   },
   "file_extension": ".py",
   "mimetype": "text/x-python",
   "name": "python",
   "nbconvert_exporter": "python",
   "pygments_lexer": "ipython3",
   "version": "3.13.2"
  }
 },
 "nbformat": 4,
 "nbformat_minor": 5
}
